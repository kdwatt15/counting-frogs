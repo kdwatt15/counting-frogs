{
 "cells": [
  {
   "cell_type": "code",
   "execution_count": 19,
   "metadata": {},
   "outputs": [],
   "source": [
    "# standard imports\n",
    "import os\n",
    "\n",
    "# PyPi imports\n",
    "import pandas as pd\n",
    "\n",
    "# project imports \n",
    "from utils.frog_counter import count_frogs"
   ]
  },
  {
   "cell_type": "code",
   "execution_count": 20,
   "metadata": {},
   "outputs": [],
   "source": [
    "# read the data, drop columns with no data\n",
    "aus_dt = pd.read_csv(os.path.join(os.getcwd(),\"data\",\"Frog_Occurence_Australia.csv\"))\n",
    "aus_dt = aus_dt.dropna(axis=1)\n",
    "aus_coords = aus_dt[[\"decimalLatitude\",\"decimalLongitude\"]].copy()\n",
    "aus_counts = count_frogs(aus_coords, 1, \"decimalLatitude\", \"decimalLongitude\")"
   ]
  },
  {
   "cell_type": "code",
   "execution_count": 28,
   "metadata": {},
   "outputs": [
    {
     "data": {
      "text/plain": [
       "lat           -6475788.0\n",
       "long         -14454396.0\n",
       "frog_count        6670.0\n",
       "dtype: float64"
      ]
     },
     "execution_count": 28,
     "metadata": {},
     "output_type": "execute_result"
    }
   ],
   "source": [
    "crsa_dt = pd.read_csv(os.path.join(os.getcwd(),\"data\",\"Frog_Occurence_South_Africa_and_Costa_Rica.csv\"))\n",
    "crsa_dt = crsa_dt.dropna(axis=1)\n",
    "crsa_dt = crsa_dt[[\"decimalLatitude\",\"decimalLongitude\"]].copy()\n",
    "crsa_dt = count_frogs(crsa_dt, 1, \"decimalLatitude\", \"decimalLongitude\")\n",
    "crsa_dt.sum()"
   ]
  }
 ],
 "metadata": {
  "interpreter": {
   "hash": "2f32c9dd4c6b0ddbd7ff40b4239b984a2d22d3d3b8adbe6eea48659bdea8e756"
  },
  "kernelspec": {
   "display_name": "Python 3.10.1 ('counting-frogs': venv)",
   "language": "python",
   "name": "python3"
  },
  "language_info": {
   "codemirror_mode": {
    "name": "ipython",
    "version": 3
   },
   "file_extension": ".py",
   "mimetype": "text/x-python",
   "name": "python",
   "nbconvert_exporter": "python",
   "pygments_lexer": "ipython3",
   "version": "3.10.1"
  },
  "orig_nbformat": 4
 },
 "nbformat": 4,
 "nbformat_minor": 2
}
