{
 "cells": [
  {
   "cell_type": "code",
   "execution_count": 63,
   "metadata": {},
   "outputs": [],
   "source": [
    "import pandas as pd\n",
    "import seaborn as sns"
   ]
  },
  {
   "cell_type": "code",
   "execution_count": 120,
   "metadata": {},
   "outputs": [
    {
     "data": {
      "text/plain": [
       "(2200, 8)"
      ]
     },
     "execution_count": 120,
     "metadata": {},
     "output_type": "execute_result"
    }
   ],
   "source": [
    "class Grid:\n",
    "\n",
    "    def __init__(self, decimal_degrees=0):\n",
    "        self.grid = self._build_grid(decimal_degrees)\n",
    "\n",
    "    def _init_grid(self, data=None):\n",
    "        columns = (\n",
    "            \"bottom_left_lat\", \n",
    "            \"bottom_left_long\", \n",
    "            \"bottom_right_lat\", \n",
    "            \"bottom_right_long\", \n",
    "            \"top_left_lat\", \n",
    "            \"top_left_long\", \n",
    "            \"top_right_lat\", \n",
    "            \"top_right_long\"\n",
    "        )\n",
    "        \n",
    "        return pd.DataFrame(data=data, columns=columns)\n",
    "\n",
    "    def _build_grid(self, decimal_degrees):\n",
    "        grid = self._init_grid()\n",
    "\n",
    "        if decimal_degrees == 0:\n",
    "            increment = 1\n",
    "        else:\n",
    "            increment = 1 / (10 ** decimal_degrees)\n",
    "        \n",
    "        lat = 0\n",
    "    \n",
    "        while lat < 1:\n",
    "            long = 0\n",
    "            while long =< 20:\n",
    "                cart_1 = self._init_grid(data=[[lat, long, lat, long+increment, lat+increment, long, lat+increment, long+increment]])\n",
    "                # cart_2 = self._init_grid(data=[[lat, (long) * -1, lat, (long+1)*-1, lat+1, (long)*-1, lat+1, (long+1)*-1]])\n",
    "                # cart_3 = self._init_grid(data=[[(lat) * -1, (long) * -1, (lat) * -1, (long+1)*-1, (lat+1)*-1, (long)*-1, (lat+1)*-1, (long+1)*-1]])\n",
    "                # cart_4 = self._init_grid(data=[[(lat) * -1, long, (lat) * -1, long+1, (lat+1)*-1, long, (lat+1)*-1, long+1]])\n",
    "                grid = pd.concat((grid, cart_1), ignore_index = True)\n",
    "                long += increment\n",
    "            lat += increment\n",
    "\n",
    "        return grid\n",
    "\n",
    "grid = Grid(decimal_degrees=1)\n",
    "grid.grid.shape\n",
    "\n"
   ]
  },
  {
   "cell_type": "code",
   "execution_count": 121,
   "metadata": {},
   "outputs": [
    {
     "data": {
      "text/html": [
       "<div>\n",
       "<style scoped>\n",
       "    .dataframe tbody tr th:only-of-type {\n",
       "        vertical-align: middle;\n",
       "    }\n",
       "\n",
       "    .dataframe tbody tr th {\n",
       "        vertical-align: top;\n",
       "    }\n",
       "\n",
       "    .dataframe thead th {\n",
       "        text-align: right;\n",
       "    }\n",
       "</style>\n",
       "<table border=\"1\" class=\"dataframe\">\n",
       "  <thead>\n",
       "    <tr style=\"text-align: right;\">\n",
       "      <th></th>\n",
       "      <th>lat</th>\n",
       "      <th>long</th>\n",
       "    </tr>\n",
       "  </thead>\n",
       "  <tbody>\n",
       "    <tr>\n",
       "      <th>0</th>\n",
       "      <td>0</td>\n",
       "      <td>0</td>\n",
       "    </tr>\n",
       "    <tr>\n",
       "      <th>1</th>\n",
       "      <td>0</td>\n",
       "      <td>0.1</td>\n",
       "    </tr>\n",
       "    <tr>\n",
       "      <th>2</th>\n",
       "      <td>0</td>\n",
       "      <td>0.2</td>\n",
       "    </tr>\n",
       "    <tr>\n",
       "      <th>3</th>\n",
       "      <td>0</td>\n",
       "      <td>0.3</td>\n",
       "    </tr>\n",
       "    <tr>\n",
       "      <th>4</th>\n",
       "      <td>0</td>\n",
       "      <td>0.4</td>\n",
       "    </tr>\n",
       "    <tr>\n",
       "      <th>...</th>\n",
       "      <td>...</td>\n",
       "      <td>...</td>\n",
       "    </tr>\n",
       "    <tr>\n",
       "      <th>2195</th>\n",
       "      <td>1.0</td>\n",
       "      <td>19.5</td>\n",
       "    </tr>\n",
       "    <tr>\n",
       "      <th>2196</th>\n",
       "      <td>1.0</td>\n",
       "      <td>19.6</td>\n",
       "    </tr>\n",
       "    <tr>\n",
       "      <th>2197</th>\n",
       "      <td>1.0</td>\n",
       "      <td>19.7</td>\n",
       "    </tr>\n",
       "    <tr>\n",
       "      <th>2198</th>\n",
       "      <td>1.0</td>\n",
       "      <td>19.8</td>\n",
       "    </tr>\n",
       "    <tr>\n",
       "      <th>2199</th>\n",
       "      <td>1.0</td>\n",
       "      <td>19.9</td>\n",
       "    </tr>\n",
       "  </tbody>\n",
       "</table>\n",
       "<p>2200 rows × 2 columns</p>\n",
       "</div>"
      ],
      "text/plain": [
       "      lat  long\n",
       "0       0     0\n",
       "1       0   0.1\n",
       "2       0   0.2\n",
       "3       0   0.3\n",
       "4       0   0.4\n",
       "...   ...   ...\n",
       "2195  1.0  19.5\n",
       "2196  1.0  19.6\n",
       "2197  1.0  19.7\n",
       "2198  1.0  19.8\n",
       "2199  1.0  19.9\n",
       "\n",
       "[2200 rows x 2 columns]"
      ]
     },
     "execution_count": 121,
     "metadata": {},
     "output_type": "execute_result"
    }
   ],
   "source": [
    "a = grid.grid[[\"bottom_left_lat\",\"bottom_left_long\"]].copy()\n",
    "a = a.rename(columns={\"bottom_left_lat\": \"lat\", \"bottom_left_long\":\"long\"})\n",
    "\n",
    "a"
   ]
  },
  {
   "cell_type": "code",
   "execution_count": null,
   "metadata": {},
   "outputs": [],
   "source": []
  },
  {
   "cell_type": "code",
   "execution_count": null,
   "metadata": {},
   "outputs": [],
   "source": []
  }
 ],
 "metadata": {
  "interpreter": {
   "hash": "2f32c9dd4c6b0ddbd7ff40b4239b984a2d22d3d3b8adbe6eea48659bdea8e756"
  },
  "kernelspec": {
   "display_name": "Python 3.10.1 ('counting-frogs': venv)",
   "language": "python",
   "name": "python3"
  },
  "language_info": {
   "codemirror_mode": {
    "name": "ipython",
    "version": 3
   },
   "file_extension": ".py",
   "mimetype": "text/x-python",
   "name": "python",
   "nbconvert_exporter": "python",
   "pygments_lexer": "ipython3",
   "version": "3.10.1"
  },
  "orig_nbformat": 4
 },
 "nbformat": 4,
 "nbformat_minor": 2
}
