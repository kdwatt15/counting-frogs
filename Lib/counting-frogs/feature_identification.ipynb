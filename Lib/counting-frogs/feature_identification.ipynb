{
 "cells": [
  {
   "cell_type": "code",
   "execution_count": 1,
   "metadata": {},
   "outputs": [],
   "source": [
    "# standard imports\n",
    "import os\n",
    "\n",
    "# PyPi imports\n",
    "import pandas as pd\n",
    "\n",
    "# project imports \n",
    "from utils.utils import count_frogs"
   ]
  },
  {
   "cell_type": "code",
   "execution_count": 4,
   "metadata": {},
   "outputs": [],
   "source": [
    "# read the data, drop columns with no data\n",
    "aus_dt = pd.read_csv(os.path.join(os.getcwd(),\"data\",\"Frog_Occurence_Australia.csv\"))\n",
    "aus_dt = aus_dt.dropna(axis=1)\n",
    "aus_coords = aus_dt[[\"decimalLatitude\",\"decimalLongitude\"]].copy()\n",
    "aus_counts = count_frogs(aus_coords, 1, \"decimalLatitude\", \"decimalLongitude\")"
   ]
  },
  {
   "cell_type": "code",
   "execution_count": 3,
   "metadata": {},
   "outputs": [],
   "source": [
    "crsa_dt = pd.read_csv(os.path.join(os.getcwd(),\"data\",\"Frog_Occurence_South_Africa_and_Costa_Rica.csv\"))\n",
    "crsa_dt = crsa_dt.dropna(axis=1)\n",
    "crsa_coords = crsa_dt[[\"decimalLatitude\",\"decimalLongitude\"]].copy()\n",
    "crsa_coords = count_frogs(crsa_coords, 1, \"decimalLatitude\", \"decimalLongitude\")"
   ]
  },
  {
   "cell_type": "code",
   "execution_count": 26,
   "metadata": {},
   "outputs": [],
   "source": [
    "import numpy as np\n",
    "import pandas as pd\n",
    "from sklearn.preprocessing import OneHotEncoder\n",
    "from sklearn.compose import ColumnTransformer\n",
    "from sklearn.model_selection import train_test_split\n",
    "from sklearn.linear_model import LinearRegression\n",
    "from sklearn.metrics import r2_score\n",
    "\n",
    "import os\n",
    "x = aus_counts.iloc[:, 0:2].values\n",
    "y = aus_counts[\"frog_count\"].values\n",
    "\n",
    "def create_test_data(x, y, random_state=0):\n",
    "    x_train, x_test, y_train, y_test = train_test_split(x, y, test_size=.25, random_state=random_state)\n",
    "    return x_train, x_test, y_train, y_test\n",
    "\n",
    "# train and evaluate the performance of the model\n",
    "def train_model(random_state, x, y):\n",
    "    x_train, x_test, y_train, y_test = create_test_data(x, y, random_state=random_state)\n",
    "    regressor = LinearRegression()\n",
    "    regressor.fit(x_train, y_train)\n",
    "\n",
    "    predictions = regressor.predict(x_test)\n",
    "    r_squared = r2_score(y_test, predictions)\n",
    "\n",
    "    n = len(x_test)\n",
    "    k = len(x[0])\n",
    "    adjusted_r_squared = 1 - (((1 - (r_squared ** 2)) * (n - 1)) / (n - k - 1))\n",
    "    print(f'The adjusted R score of the model is: {adjusted_r_squared}')\n",
    "\n",
    "    return {\n",
    "        \"x_train\": x_train,\n",
    "        \"y_train\": y_train,\n",
    "        \"x_test\": x_test,\n",
    "        \"y_test\": y_test,\n",
    "        \"adjusted_r_squared\": adjusted_r_squared,\n",
    "        \"predictions\": predictions,\n",
    "        \"coef\": regressor.coef_\n",
    "    }"
   ]
  },
  {
   "cell_type": "code",
   "execution_count": 27,
   "metadata": {},
   "outputs": [
    {
     "name": "stdout",
     "output_type": "stream",
     "text": [
      "The adjusted R score of the model is: -4.4268229430599604e-05\n"
     ]
    }
   ],
   "source": [
    "a = train_model(2, x, y)"
   ]
  },
  {
   "cell_type": "code",
   "execution_count": 28,
   "metadata": {},
   "outputs": [
    {
     "data": {
      "text/plain": [
       "array([[-43.6, 113.7],\n",
       "       [-43.6, 113.8],\n",
       "       [-43.6, 113.9],\n",
       "       ...,\n",
       "       [-10.9, 153.4],\n",
       "       [-10.9, 153.5],\n",
       "       [-10.9, 153.6]])"
      ]
     },
     "execution_count": 28,
     "metadata": {},
     "output_type": "execute_result"
    }
   ],
   "source": [
    "x"
   ]
  }
 ],
 "metadata": {
  "interpreter": {
   "hash": "2f32c9dd4c6b0ddbd7ff40b4239b984a2d22d3d3b8adbe6eea48659bdea8e756"
  },
  "kernelspec": {
   "display_name": "Python 3.10.1 ('counting-frogs': venv)",
   "language": "python",
   "name": "python3"
  },
  "language_info": {
   "codemirror_mode": {
    "name": "ipython",
    "version": 3
   },
   "file_extension": ".py",
   "mimetype": "text/x-python",
   "name": "python",
   "nbconvert_exporter": "python",
   "pygments_lexer": "ipython3",
   "version": "3.10.1"
  },
  "orig_nbformat": 4
 },
 "nbformat": 4,
 "nbformat_minor": 2
}
