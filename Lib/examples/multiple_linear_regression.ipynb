{
 "cells": [
  {
   "cell_type": "markdown",
   "metadata": {},
   "source": [
    "# Multiple Linear Regression"
   ]
  },
  {
   "cell_type": "code",
   "execution_count": 10,
   "metadata": {},
   "outputs": [],
   "source": [
    "# Importing dependencies\n",
    "import numpy as np\n",
    "import pandas as pd\n",
    "from sklearn.preprocessing import OneHotEncoder\n",
    "from sklearn.compose import ColumnTransformer\n",
    "from sklearn.model_selection import train_test_split\n",
    "from sklearn.linear_model import LinearRegression\n",
    "from sklearn.metrics import r2_score\n",
    "\n",
    "import os"
   ]
  },
  {
   "cell_type": "code",
   "execution_count": 11,
   "metadata": {},
   "outputs": [],
   "source": [
    "# load the dataset\n",
    "dataset = pd.read_csv(os.path.join(os.getcwd(), 'data','50_Startups.csv'))"
   ]
  },
  {
   "cell_type": "code",
   "execution_count": 12,
   "metadata": {},
   "outputs": [],
   "source": [
    "# data preprocessing\n",
    "x = dataset.iloc[:, 0:4].values\n",
    "y = dataset.iloc[:, -1].values\n",
    "\n",
    "encoder = OneHotEncoder(drop=\"first\", dtype=int)\n",
    "ct = ColumnTransformer([('categorical_encoding', encoder, [3])], remainder=\"passthrough\")\n",
    "\n",
    "x = ct.fit_transform(x)"
   ]
  },
  {
   "cell_type": "code",
   "execution_count": 13,
   "metadata": {},
   "outputs": [],
   "source": [
    "# creating test and training datasets\n",
    "def create_test_data(x, y, random_state=0):\n",
    "    x_train, x_test, y_train, y_test = train_test_split(x, y, test_size=.25, random_state=random_state)\n",
    "    return x_train, x_test, y_train, y_test\n",
    "\n",
    "# train and evaluate the performance of the model\n",
    "def train_dataset(random_state):\n",
    "    x_train, x_test, y_train, y_test = create_test_data(x, y, random_state=random_state)\n",
    "    regressor = LinearRegression()\n",
    "    regressor.fit(x_train, y_train)\n",
    "\n",
    "    predictions = regressor.predict(x_test)\n",
    "    r_squared = r2_score(y_test, predictions)\n",
    "\n",
    "    n = len(x_test)\n",
    "    k = 5\n",
    "    adjusted_r_squared = 1 - (((1 - (r_squared ** 2)) * (n - 1)) / (n - k - 1))\n",
    "    print(f'The adjusted R score of the model is: {adjusted_r_squared}')\n",
    "\n",
    "    return {\n",
    "        \"x_train\": x_train,\n",
    "        \"y_train\": y_train,\n",
    "        \"x_test\": x_test,\n",
    "        \"y_test\": y_test,\n",
    "        \"adjusted_r_squared\": adjusted_r_squared,\n",
    "        \"predictions\": predictions,\n",
    "        \"coef\": regressor.coef_\n",
    "    }"
   ]
  },
  {
   "cell_type": "code",
   "execution_count": 14,
   "metadata": {},
   "outputs": [
    {
     "name": "stdout",
     "output_type": "stream",
     "text": [
      "The adjusted R score of the model is: 0.7734470769957605\n"
     ]
    }
   ],
   "source": [
    "tdt = train_dataset(0)"
   ]
  }
 ],
 "metadata": {
  "interpreter": {
   "hash": "1795df44117e8ce86a63a843a4ba4cd0143021ecbe1bd569f141b7d7c0e74958"
  },
  "kernelspec": {
   "display_name": "Python 3 (ipykernel)",
   "language": "python",
   "name": "python3"
  },
  "language_info": {
   "codemirror_mode": {
    "name": "ipython",
    "version": 3
   },
   "file_extension": ".py",
   "mimetype": "text/x-python",
   "name": "python",
   "nbconvert_exporter": "python",
   "pygments_lexer": "ipython3",
   "version": "3.10.1"
  },
  "orig_nbformat": 4
 },
 "nbformat": 4,
 "nbformat_minor": 2
}
